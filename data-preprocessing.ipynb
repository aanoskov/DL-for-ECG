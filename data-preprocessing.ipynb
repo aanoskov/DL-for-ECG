{
 "cells": [
  {
   "cell_type": "code",
   "execution_count": 6,
   "metadata": {},
   "outputs": [],
   "source": [
    "import pandas as pd\n",
    "import numpy as np\n",
    "import ast\n",
    "from sklearn.svm import SVC\n",
    "import wfdb\n",
    "from sklearn.preprocessing import StandardScaler, MultiLabelBinarizer"
   ]
  },
  {
   "cell_type": "code",
   "execution_count": 2,
   "metadata": {},
   "outputs": [],
   "source": [
    "from utils import utils\n",
    "import pickle"
   ]
  },
  {
   "cell_type": "code",
   "execution_count": 33,
   "metadata": {},
   "outputs": [
    {
     "data": {
      "text/plain": [
       "False"
      ]
     },
     "execution_count": 33,
     "metadata": {},
     "output_type": "execute_result"
    }
   ],
   "source": [
    "import torch\n",
    "torch.cuda.is_available()"
   ]
  },
  {
   "cell_type": "code",
   "execution_count": 4,
   "metadata": {},
   "outputs": [],
   "source": [
    "import torch\n",
    "import torch.nn as nn\n",
    "import torch.nn.functional as F\n",
    "import math\n",
    "\n",
    "from fastai.layers import *\n",
    "from fastai.core import *"
   ]
  },
  {
   "cell_type": "code",
   "execution_count": 7,
   "metadata": {},
   "outputs": [],
   "source": [
    "def load_raw_data(df, sampling_rate, path, num):\n",
    "    if sampling_rate == 100:\n",
    "        data = [wfdb.rdsamp(path+f) for f in df.filename_lr]\n",
    "    else:\n",
    "        data = list()\n",
    "        start = int(num * (len(df) / 4))\n",
    "        end = int((num + 1)* (len(df) / 4))\n",
    "        it = start\n",
    "        for f in df.filename_hr[start:]:\n",
    "            if num != 3:\n",
    "                if it >= end:\n",
    "                    break\n",
    "            data.append(wfdb.rdsamp(path+f))\n",
    "            it += 1\n",
    "        #data = [wfdb.rdsamp(path+f) for f in df.filename_hr]\n",
    "    data = np.array([signal for signal, meta in data])\n",
    "    return data"
   ]
  },
  {
   "cell_type": "code",
   "execution_count": 8,
   "metadata": {},
   "outputs": [],
   "source": [
    "def load_dataset(path, sampling_rate, num):\n",
    "    # load and convert annotation data\n",
    "    Y = pd.read_csv(path+'ptbxl_database.csv', index_col='ecg_id')\n",
    "    Y.scp_codes = Y.scp_codes.apply(lambda x: ast.literal_eval(x))\n",
    "    Y['scp_codes_len'] = Y.scp_codes.apply(lambda x: len(x))\n",
    "\n",
    "    # Load raw signal data\n",
    "    X = load_raw_data(Y, sampling_rate, path, num)\n",
    "    return X, Y"
   ]
  },
  {
   "cell_type": "code",
   "execution_count": 9,
   "metadata": {},
   "outputs": [],
   "source": [
    "def aggregate_diagnostic(y_dic):\n",
    "    tmp = []\n",
    "    for key in y_dic.keys():\n",
    "        if key in aggregation_df.index:\n",
    "            tmp.append(aggregation_df.loc[key].diagnostic_class)\n",
    "    return list(set(tmp))"
   ]
  },
  {
   "cell_type": "code",
   "execution_count": 22,
   "metadata": {},
   "outputs": [],
   "source": [
    "def select_data(X, Y, min_samples, outputfolder):\n",
    "    # convert multilabel to multi-hot\n",
    "    mlb = MultiLabelBinarizer()\n",
    "    min_samples=0\n",
    "    counts = pd.Series(np.concatenate(Y.superdiagnostic.values)).value_counts()\n",
    "    counts = counts[counts > min_samples]\n",
    "    Y.superdiagnostic = Y.superdiagnostic.apply(lambda x: list(set(x).intersection(set(counts.index.values))))\n",
    "    Y['superdiagnostic_len'] = Y.superdiagnostic.apply(lambda x: len(x))\n",
    "    X = X[Y.superdiagnostic_len > 0]\n",
    "    Y = Y[Y.superdiagnostic_len > 0]\n",
    "    \n",
    "    X = X[Y['burst_noise'].isna()]\n",
    "    Y = Y[Y['burst_noise'].isna()]\n",
    "    \n",
    "    X = X[Y['electrodes_problems'].isna()]\n",
    "    Y = Y[Y['electrodes_problems'].isna()]\n",
    "    \n",
    "    mlb.fit(Y.superdiagnostic.values)\n",
    "    \n",
    "    \n",
    "    Y_new = mlb.transform(Y.superdiagnostic.values)\n",
    "    with open(outputfolder+'mlb.pkl', 'wb') as tokenizer:\n",
    "        pickle.dump(mlb, tokenizer)\n",
    "        \n",
    "    return X, Y, Y_new\n"
   ]
  },
  {
   "cell_type": "code",
   "execution_count": 16,
   "metadata": {},
   "outputs": [
    {
     "data": {
      "text/plain": [
       "(21224, 1000, 12)"
      ]
     },
     "execution_count": 16,
     "metadata": {},
     "output_type": "execute_result"
    }
   ],
   "source": [
    "X_noisy.shape"
   ]
  },
  {
   "cell_type": "code",
   "execution_count": 17,
   "metadata": {},
   "outputs": [
    {
     "data": {
      "text/plain": [
       "(21837, 1000, 12)"
      ]
     },
     "execution_count": 17,
     "metadata": {},
     "output_type": "execute_result"
    }
   ],
   "source": [
    "X.shape"
   ]
  },
  {
   "cell_type": "code",
   "execution_count": 11,
   "metadata": {
    "scrolled": true
   },
   "outputs": [],
   "source": [
    "sampling_rate = 100\n",
    "num = 0\n",
    "path = '../dataset-1/'\n",
    "X, Y = load_dataset(path, sampling_rate, num)"
   ]
  },
  {
   "cell_type": "code",
   "execution_count": 12,
   "metadata": {},
   "outputs": [],
   "source": [
    "# Load scp_statements.csv for diagnostic aggregation\n",
    "Y['scp_codes_len'] = Y.scp_codes.apply(lambda x: len(x))\n",
    "aggregation_df = pd.read_csv(path + 'scp_statements.csv', index_col=0)\n",
    "aggregation_df = aggregation_df[aggregation_df.diagnostic == 1.0]\n",
    "\n",
    "# Apply diagnostic superclass\n",
    "Y['superdiagnostic'] = Y.scp_codes.apply(aggregate_diagnostic)\n",
    "Y['superdiagnostic_len'] = Y.superdiagnostic.apply(lambda x: len(x))"
   ]
  },
  {
   "cell_type": "code",
   "execution_count": 24,
   "metadata": {},
   "outputs": [],
   "source": [
    "output_folder = 'output/'\n",
    "X, Y_lbl, Y = select_data(X, Y, min_samples=0, outputfolder=output_folder)"
   ]
  },
  {
   "cell_type": "code",
   "execution_count": 26,
   "metadata": {},
   "outputs": [],
   "source": [
    "with open(\"output/X_noise.csv\", \"wb\") as fp:   #Pickling\n",
    "    pickle.dump(X, fp)"
   ]
  },
  {
   "cell_type": "code",
   "execution_count": 27,
   "metadata": {
    "scrolled": true
   },
   "outputs": [],
   "source": [
    "with open(\"output/Y_noise.csv\", \"wb\") as fp:   # Unpickling\n",
    "    pickle.dump(Y, fp)"
   ]
  },
  {
   "cell_type": "code",
   "execution_count": 28,
   "metadata": {},
   "outputs": [],
   "source": [
    "with open(\"output/Y_lbl_noise.csv\", \"wb\") as fp:   # Unpickling\n",
    "    pickle.dump(Y_lbl, fp)"
   ]
  },
  {
   "cell_type": "code",
   "execution_count": 16,
   "metadata": {},
   "outputs": [
    {
     "data": {
      "text/plain": [
       "((20849, 1000, 12), (20849, 5), (20849, 30))"
      ]
     },
     "execution_count": 16,
     "metadata": {},
     "output_type": "execute_result"
    }
   ],
   "source": [
    "X.shape, Y.shape, Y_lbl.shape"
   ]
  },
  {
   "cell_type": "code",
   "execution_count": 28,
   "metadata": {},
   "outputs": [],
   "source": [
    "standard_scaler = pickle.load(open('output/'+experiment+'/data/standard_scaler.pkl', \"rb\"))\n",
    "\n",
    "X_train = utils.apply_standardizer(X_train, standard_scaler)\n",
    "X_test = utils.apply_standardizer(X_test, standard_scaler)"
   ]
  },
  {
   "cell_type": "code",
   "execution_count": 86,
   "metadata": {},
   "outputs": [],
   "source": [
    "a = [0, 1, 2, 3]\n",
    "with open(\"output/test1.csv\", \"ab\") as fp: \n",
    "    pickle.dump(a, fp)"
   ]
  },
  {
   "cell_type": "code",
   "execution_count": 87,
   "metadata": {},
   "outputs": [],
   "source": [
    "b = [[1, 2, 3, 4]\n",
    "with open(\"output/test2.csv\", \"ab\", ) as fp: \n",
    "    pickle.dump(b, fp)"
   ]
  },
  {
   "cell_type": "code",
   "execution_count": 88,
   "metadata": {},
   "outputs": [],
   "source": [
    "with open(\"output/test1.csv\", \"rb\") as fp:   # Unpickling\n",
    "    a = pickle.load(fp)\n",
    "with open(\"output/test2.csv\", \"rb\") as fp:   # Unpickling\n",
    "    b = pickle.load(fp)\n"
   ]
  },
  {
   "cell_type": "code",
   "execution_count": 111,
   "metadata": {},
   "outputs": [
    {
     "data": {
      "text/plain": [
       "(3, 3, 4)"
      ]
     },
     "execution_count": 111,
     "metadata": {},
     "output_type": "execute_result"
    }
   ],
   "source": [
    "a = np.array([[[1, 2, 3, 4], [1, 2, 3, 4], [1, 2, 3, 4]], [[1, 2, 3, 4], [1, 2, 3, 4], [1, 2, 3, 4]]])\n",
    "b = np.array([[[0, 1, 2, 3], [0, 1, 2, 3], [0, 1, 2, 3]]])\n",
    "c = list(a)\n",
    "c.extend(list(b))\n",
    "np.array(c).shape"
   ]
  },
  {
   "cell_type": "code",
   "execution_count": 45,
   "metadata": {
    "scrolled": true
   },
   "outputs": [
    {
     "data": {
      "text/plain": [
       "array([[[-1.190e-01, -5.500e-02,  6.400e-02,  8.600e-02, ...,  0.000e+00, -2.600e-02, -3.900e-02, -7.900e-02],\n",
       "        [-1.160e-01, -5.100e-02,  6.500e-02,  8.300e-02, ..., -3.000e-03, -3.100e-02, -3.400e-02, -7.400e-02],\n",
       "        [-1.200e-01, -4.400e-02,  7.600e-02,  8.200e-02, ..., -1.000e-02, -2.800e-02, -2.900e-02, -6.900e-02],\n",
       "        [-1.170e-01, -3.800e-02,  8.000e-02,  7.700e-02, ..., -1.500e-02, -2.300e-02, -2.200e-02, -6.400e-02],\n",
       "        ...,\n",
       "        [ 9.000e-02,  2.100e-02, -6.900e-02, -5.500e-02, ..., -2.300e-02, -2.700e-02, -3.600e-02, -8.000e-03],\n",
       "        [ 6.900e-02,  0.000e+00, -6.900e-02, -3.400e-02, ...,  0.000e+00,  2.400e-02, -4.100e-02, -5.800e-02],\n",
       "        [ 8.600e-02,  4.000e-03, -8.100e-02, -4.400e-02, ..., -2.500e-02,  2.420e-01, -4.600e-02, -9.800e-02],\n",
       "        [ 2.200e-02, -3.100e-02, -5.400e-02,  5.000e-03, ..., -1.490e-01,  1.430e-01, -3.500e-02, -1.200e-01]],\n",
       "\n",
       "       [[ 4.000e-03,  1.380e-01,  1.340e-01, -7.200e-02, ...,  1.430e-01,  1.920e-01,  8.300e-02,  8.800e-02],\n",
       "        [-2.000e-02,  1.160e-01,  1.360e-01, -4.800e-02, ...,  1.130e-01,  1.560e-01,  5.700e-02,  6.300e-02],\n",
       "        [-5.300e-02,  9.200e-02,  1.450e-01, -2.000e-02, ...,  6.900e-02,  1.070e-01,  1.300e-02,  2.200e-02],\n",
       "        [-5.600e-02,  8.900e-02,  1.450e-01, -1.700e-02, ...,  5.400e-02,  8.800e-02, -6.000e-03,  2.000e-03],\n",
       "        ...,\n",
       "        [ 3.160e-01,  7.730e-01,  4.570e-01, -5.450e-01, ..., -2.249e+00,  2.990e-01,  5.110e-01,  6.130e-01],\n",
       "        [ 1.210e-01,  3.980e-01,  2.770e-01, -2.600e-01, ..., -1.658e+00, -1.065e+00, -4.920e-01, -1.560e-01],\n",
       "        [-3.260e-01,  5.700e-02,  3.830e-01,  1.350e-01, ..., -5.010e-01, -2.800e-01, -1.750e-01, -7.100e-02],\n",
       "        [-3.480e-01, -5.600e-02,  2.920e-01,  2.020e-01, ..., -1.770e-01, -3.080e-01, -2.310e-01, -1.450e-01]],\n",
       "\n",
       "       [[-2.900e-02, -7.900e-02, -4.900e-02,  5.400e-02, ..., -1.160e-01, -1.030e-01, -7.600e-02, -6.600e-02],\n",
       "        [-3.500e-02, -7.000e-02, -3.500e-02,  5.200e-02, ..., -1.200e-01, -1.040e-01, -7.900e-02, -6.800e-02],\n",
       "        [-5.400e-02, -5.700e-02, -3.000e-03,  5.600e-02, ..., -1.050e-01, -7.800e-02, -6.600e-02, -5.400e-02],\n",
       "        [-7.800e-02, -1.200e-01, -4.200e-02,  1.000e-01, ..., -9.300e-02, -9.800e-02, -8.800e-02, -7.100e-02],\n",
       "        ...,\n",
       "        [-3.400e-02, -2.340e-01, -2.000e-01,  1.340e-01, ...,  4.800e-02, -1.000e-03,  9.500e-02,  3.100e-02],\n",
       "        [-2.900e-02, -2.260e-01, -1.980e-01,  1.270e-01, ..., -7.000e-02,  1.000e-03,  2.290e-01,  1.800e-02],\n",
       "        [-4.800e-02, -2.660e-01, -2.180e-01,  1.580e-01, ..., -2.090e-01, -1.000e-03,  2.100e-02, -8.000e-03],\n",
       "        [-4.900e-02, -2.880e-01, -2.390e-01,  1.690e-01, ..., -3.800e-02,  1.000e-03, -1.800e-02,  6.000e-03]],\n",
       "\n",
       "       [[-5.400e-02, -1.380e-01, -8.300e-02,  9.600e-02, ..., -4.000e-02, -3.000e-01, -1.840e-01, -1.740e-01],\n",
       "        [-5.300e-02, -1.560e-01, -1.030e-01,  1.050e-01, ..., -4.300e-02, -3.030e-01, -1.850e-01, -1.760e-01],\n",
       "        [-6.300e-02, -1.530e-01, -9.000e-02,  1.080e-01, ..., -5.900e-02, -3.120e-01, -1.930e-01, -1.850e-01],\n",
       "        [-6.000e-02, -1.610e-01, -1.010e-01,  1.100e-01, ..., -6.700e-02, -3.220e-01, -1.960e-01, -1.850e-01],\n",
       "        ...,\n",
       "        [-3.000e-03, -9.280e-01, -9.240e-01,  4.660e-01, ...,  2.770e-01,  1.770e-01,  1.640e-01,  1.930e-01],\n",
       "        [ 2.600e-02, -9.150e-01, -9.420e-01,  4.450e-01, ...,  3.290e-01,  2.530e-01,  2.040e-01,  2.140e-01],\n",
       "        [ 2.600e-02, -9.100e-01, -9.370e-01,  4.420e-01, ...,  3.420e-01,  2.180e-01,  1.990e-01,  2.130e-01],\n",
       "        [ 2.800e-02, -8.990e-01, -9.270e-01,  4.360e-01, ...,  3.930e-01,  2.950e-01,  2.390e-01,  2.360e-01]],\n",
       "\n",
       "       ...,\n",
       "\n",
       "       [[-5.000e-02, -1.300e-02,  3.600e-02,  3.100e-02, ...,  5.000e-03,  1.000e-02,  4.000e-03, -1.000e-02],\n",
       "        [-3.200e-02,  8.000e-03,  4.000e-02,  1.200e-02, ...,  1.100e-02,  1.400e-02,  8.000e-03, -4.000e-03],\n",
       "        [ 8.000e-03,  4.700e-02,  3.900e-02, -2.800e-02, ...,  1.900e-02,  1.900e-02,  1.100e-02,  2.000e-03],\n",
       "        [ 1.400e-02,  5.600e-02,  4.200e-02, -3.500e-02, ...,  2.500e-02,  2.400e-02,  1.500e-02,  9.000e-03],\n",
       "        ...,\n",
       "        [-1.070e-01, -1.440e-01, -3.700e-02,  1.260e-01, ..., -6.600e-02, -6.300e-02, -1.000e-01, -2.280e-01],\n",
       "        [ 5.800e-02, -1.300e-01, -1.880e-01,  3.700e-02, ...,  1.860e-01,  3.480e-01,  3.500e-01,  3.310e-01],\n",
       "        [ 5.010e-01,  1.940e-01, -3.060e-01, -3.470e-01, ...,  8.100e-01,  1.154e+00,  1.162e+00,  7.860e-01],\n",
       "        [ 5.840e-01,  3.490e-01, -2.360e-01, -4.660e-01, ...,  3.290e-01,  5.070e-01,  6.020e-01,  8.690e-01]],\n",
       "\n",
       "       [[ 3.800e-02,  2.400e-02, -1.400e-02, -3.000e-02, ...,  4.500e-02,  6.000e-03,  1.600e-02,  2.700e-02],\n",
       "        [ 7.800e-02,  6.600e-02, -1.200e-02, -7.200e-02, ...,  4.900e-02,  1.600e-02,  3.100e-02,  4.500e-02],\n",
       "        [-1.400e-02, -6.000e-03,  8.000e-03,  9.000e-03, ...,  2.200e-02,  9.000e-03,  3.000e-02,  4.700e-02],\n",
       "        [ 7.200e-02,  8.500e-02,  1.300e-02, -7.900e-02, ..., -1.700e-02, -3.000e-03,  2.800e-02,  5.000e-02],\n",
       "        ...,\n",
       "        [ 3.700e-02,  5.500e-02,  1.800e-02, -4.700e-02, ..., -5.180e-01, -3.050e-01, -5.000e-02,  9.000e-02],\n",
       "        [-1.060e-01, -6.200e-02,  4.400e-02,  8.400e-02, ..., -2.410e-01, -2.120e-01, -7.400e-02,  5.100e-02],\n",
       "        [-4.500e-02,  2.600e-02,  7.100e-02,  9.000e-03, ..., -1.230e-01, -1.510e-01, -5.900e-02,  4.800e-02],\n",
       "        [ 4.630e-01,  5.300e-01,  6.700e-02, -4.970e-01, ..., -3.210e-01, -1.810e-01, -1.050e-01,  3.300e-02]],\n",
       "\n",
       "       [[-5.700e-02, -5.700e-02,  0.000e+00,  5.700e-02, ...,  3.460e-01, -3.500e-02, -3.900e-02, -3.500e-02],\n",
       "        [-4.100e-02, -2.900e-02,  1.200e-02,  3.500e-02, ...,  3.500e-01, -2.300e-02, -2.800e-02, -2.700e-02],\n",
       "        [ 3.000e-03,  4.500e-02,  4.200e-02, -2.400e-02, ...,  3.480e-01, -9.000e-03, -1.400e-02, -1.400e-02],\n",
       "        [ 0.000e+00,  5.800e-02,  5.800e-02, -2.900e-02, ...,  3.570e-01,  0.000e+00, -7.000e-03,  2.000e-03],\n",
       "        ...,\n",
       "        [ 5.100e-02,  1.190e-01,  6.800e-02, -8.500e-02, ...,  1.720e-01,  2.170e-01,  1.270e-01,  8.100e-02],\n",
       "        [ 3.300e-02,  7.000e-02,  3.700e-02, -5.200e-02, ...,  2.150e-01,  2.180e-01,  1.010e-01,  5.200e-02],\n",
       "        [ 2.700e-02,  8.200e-02,  5.500e-02, -5.500e-02, ...,  2.000e-01,  2.100e-01,  3.350e-01,  1.000e-02],\n",
       "        [-6.000e-03,  5.100e-02,  5.700e-02, -2.300e-02, ...,  1.540e-01,  2.110e-01,  3.740e-01, -9.000e-03]],\n",
       "\n",
       "       [[-4.900e-02, -2.500e-02,  2.400e-02,  3.700e-02, ..., -1.350e-01, -4.000e-02, -2.600e-02, -3.100e-02],\n",
       "        [-4.900e-02, -2.900e-02,  2.000e-02,  3.900e-02, ..., -1.340e-01, -3.200e-02, -3.300e-02, -4.300e-02],\n",
       "        [-5.900e-02, -4.200e-02,  1.700e-02,  5.000e-02, ..., -1.420e-01, -4.000e-02, -4.700e-02, -5.100e-02],\n",
       "        [-6.600e-02, -5.200e-02,  1.300e-02,  5.900e-02, ..., -1.570e-01, -6.100e-02, -5.600e-02, -4.200e-02],\n",
       "        ...,\n",
       "        [ 0.000e+00, -1.000e-03, -2.000e-03,  1.000e-03, ...,  8.200e-02,  3.400e-02, -9.000e-03, -8.500e-02],\n",
       "        [ 9.100e-02,  1.200e-02, -7.900e-02, -5.100e-02, ...,  1.200e-01,  6.300e-02,  1.600e-02, -1.170e-01],\n",
       "        [ 1.750e-01,  2.200e-02, -1.530e-01, -9.900e-02, ...,  1.480e-01,  8.000e-02,  1.800e-02, -1.080e-01],\n",
       "        [ 1.660e-01, -7.000e-03, -1.730e-01, -8.000e-02, ...,  1.780e-01,  1.060e-01,  4.700e-02, -1.030e-01]]])"
      ]
     },
     "execution_count": 45,
     "metadata": {},
     "output_type": "execute_result"
    }
   ],
   "source": [
    "X"
   ]
  },
  {
   "cell_type": "code",
   "execution_count": 15,
   "metadata": {},
   "outputs": [],
   "source": [
    "# Split data into train and test\n",
    "test_fold = 10\n",
    "# Train\n",
    "X_train = X[np.where(Y_lbl.strat_fold != test_fold)]\n",
    "y_train = Y[(Y_lbl.strat_fold != test_fold)]\n",
    "# Test\n",
    "X_test = X[np.where(Y_lbl.strat_fold == test_fold)]\n",
    "y_test = Y[Y_lbl.strat_fold == test_fold]"
   ]
  }
 ],
 "metadata": {
  "kernelspec": {
   "display_name": "Python 3",
   "language": "python",
   "name": "python3"
  },
  "language_info": {
   "codemirror_mode": {
    "name": "ipython",
    "version": 3
   },
   "file_extension": ".py",
   "mimetype": "text/x-python",
   "name": "python",
   "nbconvert_exporter": "python",
   "pygments_lexer": "ipython3",
   "version": "3.8.3"
  }
 },
 "nbformat": 4,
 "nbformat_minor": 4
}
